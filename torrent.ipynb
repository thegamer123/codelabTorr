{
  "cells": [
    {
      "cell_type": "markdown",
      "metadata": {
        "id": "Be3iKZ4FZ1LV"
      },
      "source": [
        "### Install dependencies"
      ]
    },
    {
      "cell_type": "code",
      "execution_count": null,
      "metadata": {
        "id": "qEPL7qdkaAoG"
      },
      "outputs": [],
      "source": [
        "!python -m pip install --upgrade pip setuptools wheel && python -m pip install lbry-libtorrent wget torf && apt install python3-libtorrent"
      ]
    },
    {
      "cell_type": "markdown",
      "metadata": {
        "id": "6sfsiTXEaN8_"
      },
      "source": [
        "### Download torrent"
      ]
    },
    {
      "cell_type": "code",
      "execution_count": null,
      "metadata": {
        "id": "KpXzNFTgaRPW"
      },
      "outputs": [],
      "source": [
        "import zipfile\n",
        "import os\n",
        "import libtorrent as lt\n",
        "import time\n",
        "import datetime\n",
        "import shutil\n",
        "\n",
        "params = {\n",
        "    'save_path': '/content/Torrent/',\n",
        "    'storage_mode': lt.storage_mode_t(2),\n",
        "}\n",
        "\n",
        "ses = lt.session()\n",
        "ses.listen_on(6881, 6891)\n",
        "link = input(\"Input Torrent file link or Magnet link and Press Enter: \")\n",
        "\n",
        "if link.endswith('.torrent'):\n",
        "    import wget\n",
        "    from torf import Torrent\n",
        "\n",
        "    if os.path.exists('torrent.torrent'):\n",
        "        os.remove('torrent.torrent')\n",
        "\n",
        "    wget.download(link, 'torrent.torrent')\n",
        "    t = Torrent.read('torrent.torrent')\n",
        "    link = str(t.magnet(name=True, size=False, trackers=False, tracker=False))\n",
        "\n",
        "\n",
        "print(link)\n",
        "handle = lt.add_magnet_uri(ses, link, params)\n",
        "# change the 0 to a 1 to download sequentially\n",
        "handle.set_sequential_download(0)\n",
        "ses.start_dht()\n",
        "begin = time.time()\n",
        "\n",
        "print(datetime.datetime.now())\n",
        "print('Downloading Metadata...')\n",
        "\n",
        "while not handle.has_metadata():\n",
        "    time.sleep(1)\n",
        "\n",
        "print('Got Metadata, Starting Torrent Download...')\n",
        "print(\"Starting\", handle.name())\n",
        "\n",
        "while handle.status().state != lt.torrent_status.seeding:\n",
        "    s = handle.status()\n",
        "    state_str = ['queued', 'checking', 'downloading metadata',\n",
        "                 'downloading', 'finished', 'seeding', 'allocating']\n",
        "    print('%.2f%% complete (down: %.1f kb/s up: %.1f kB/s peers: %d) %s ' %\n",
        "          (s.progress * 100, s.download_rate / 1000, s.upload_rate / 1000,\n",
        "           s.num_peers, state_str[s.state]))\n",
        "    time.sleep(5)\n",
        "\n",
        "end = time.time()\n",
        "print(handle.name(), \"COMPLETE\")\n",
        "print(\"Elapsed Time: \", int((end - begin) // 60), \"min :\", int((end - begin) % 60), \"sec\")\n",
        "print(datetime.datetime.now())"
      ]
    },
    {
      "cell_type": "markdown",
      "metadata": {
        "id": "z_gzw_neM2fm"
      },
      "source": [
        "### Zip the files"
      ]
    },
    {
      "cell_type": "code",
      "source": [
        "import shutil\n",
        "import zipfile\n",
        "\n",
        "def zip_folder(folder_path, output_zip_path):\n",
        "    \"\"\"Zips the contents of a folder into a zip file.\n",
        "\n",
        "    Args:\n",
        "        folder_path: The path to the folder to be zipped.\n",
        "        output_zip_path: The path to the output zip file.\n",
        "    \"\"\"\n",
        "\n",
        "    with zipfile.ZipFile(output_zip_path, \"w\") as zip_file:\n",
        "        for root, dirs, files in os.walk(folder_path):\n",
        "            for file in files:\n",
        "                file_path = os.path.join(root, file)\n",
        "                zip_file.write(file_path)\n",
        "\n",
        "if __name__ == \"__main__\":\n",
        "    folder_path = \"/content/Torrent\" #Souce folder\n",
        "    output_zip_path = \"/content/torrent.zip\" #zip file\n",
        "\n",
        "    zip_folder(folder_path, output_zip_path)"
      ],
      "metadata": {
        "id": "MeFN7MhsNEOT"
      },
      "execution_count": null,
      "outputs": []
    },
    {
      "cell_type": "code",
      "execution_count": null,
      "metadata": {
        "id": "b7azciNnM2fm"
      },
      "outputs": [],
      "source": [
        "print('Zipping started...')\n",
        "\n",
        "ziph = zipfile.ZipFile('Downloaded-Torrent.zip', 'w', zipfile.ZIP_DEFLATED)\n",
        "path = 'content/Torrent/'\n",
        "for root, dirs, files in os.walk(path):\n",
        "    for file in files:\n",
        "        ziph.write(os.path.join(root, file),\n",
        "                   os.path.relpath(os.path.join(root, file),\n",
        "                                   os.path.join(path, '..')))\n",
        "ziph.close()\n",
        "\n",
        "print('\\nALL DONE!')"
      ]
    }
  ],
  "metadata": {
    "colab": {
      "name": "torrent.ipynb",
      "provenance": []
    },
    "kernelspec": {
      "display_name": "Python 3",
      "name": "python3"
    },
    "language_info": {
      "name": "python"
    }
  },
  "nbformat": 4,
  "nbformat_minor": 0
}